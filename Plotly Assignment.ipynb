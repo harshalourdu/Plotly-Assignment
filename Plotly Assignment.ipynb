{
 "cells": [
  {
   "cell_type": "markdown",
   "metadata": {},
   "source": [
    "Q1: Load the \"titanic\" dataset using the load_dataset function of Seaborn and plot a scatter plot for age and fare columns in the Titanic dataset."
   ]
  },
  {
   "cell_type": "code",
   "execution_count": null,
   "metadata": {},
   "outputs": [],
   "source": [
    "import seaborn as sns\n",
    "import plotly.express as px\n",
    "\n",
    "# Load the Titanic dataset\n",
    "titanic = sns.load_dataset(\"titanic\")\n",
    "\n",
    "# Plotting the scatter plot for age vs fare\n",
    "fig = px.scatter(titanic, x=\"age\", y=\"fare\", title=\"Age vs Fare in Titanic Dataset\")\n",
    "fig.show()\n"
   ]
  },
  {
   "cell_type": "markdown",
   "metadata": {},
   "source": [
    "Q2: Using the tips dataset in Plotly, plot a box plot using Plotly Express."
   ]
  },
  {
   "cell_type": "code",
   "execution_count": null,
   "metadata": {},
   "outputs": [],
   "source": [
    "# Load the tips dataset from Plotly\n",
    "fig = px.box(px.data.tips(), y=\"total_bill\", title=\"Box plot of Total Bill\")\n",
    "fig.show()\n"
   ]
  },
  {
   "cell_type": "markdown",
   "metadata": {},
   "source": [
    "Q3: Using the tips dataset in Plotly, plot a histogram for x=\"sex\" and y=\"total_bill\", with the smoker column as the pattern_shape parameter and the day column as the color parameter."
   ]
  },
  {
   "cell_type": "code",
   "execution_count": null,
   "metadata": {},
   "outputs": [],
   "source": [
    "# Using the tips dataset from Plotly\n",
    "fig = px.histogram(px.data.tips(), x=\"sex\", y=\"total_bill\", \n",
    "                   pattern_shape=\"smoker\", color=\"day\", \n",
    "                   title=\"Histogram of Total Bill by Sex with Smoker and Day\")\n",
    "fig.show()\n"
   ]
  },
  {
   "cell_type": "markdown",
   "metadata": {},
   "source": [
    "Q4: Using the iris dataset in Plotly, plot a scatter matrix plot, using the \"species\" column for the color parameter. Use the \"sepal_length\", \"sepal_width\", \"petal_length\", \"petal_width\" columns only with the dimensions parameter.\n",
    "python\n",
    "Copy code\n"
   ]
  },
  {
   "cell_type": "code",
   "execution_count": null,
   "metadata": {},
   "outputs": [],
   "source": [
    "# Load the iris dataset from Plotly\n",
    "iris = px.data.iris()\n",
    "\n",
    "# Plotting the scatter matrix plot\n",
    "fig = px.scatter_matrix(iris, dimensions=[\"sepal_length\", \"sepal_width\", \"petal_length\", \"petal_width\"], \n",
    "                        color=\"species\", title=\"Scatter Matrix of Iris Dataset\")\n",
    "fig.show()\n"
   ]
  },
  {
   "cell_type": "markdown",
   "metadata": {},
   "source": [
    "Q5: What is Distplot? Using Plotly Express, plot a distplot.\n",
    "Distplot (in Seaborn) is used to visualize the distribution of a dataset using histograms and optionally a KDE (Kernel Density Estimate) curve."
   ]
  },
  {
   "cell_type": "code",
   "execution_count": null,
   "metadata": {},
   "outputs": [],
   "source": [
    "# Plotting a distribution plot using Plotly Express\n",
    "fig = px.histogram(titanic, x=\"age\", marginal=\"rug\", \n",
    "                   title=\"Distribution of Age in Titanic Dataset\")\n",
    "fig.show()\n"
   ]
  }
 ],
 "metadata": {
  "language_info": {
   "name": "python"
  }
 },
 "nbformat": 4,
 "nbformat_minor": 2
}
